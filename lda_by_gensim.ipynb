{
 "cells": [
  {
   "cell_type": "code",
   "execution_count": 1,
   "metadata": {
    "collapsed": true
   },
   "outputs": [],
   "source": [
    "from sklearn.datasets import fetch_20newsgroups\n",
    "from pprint import pprint\n",
    "from sklearn.feature_extraction.text import CountVectorizer\n",
    "from gensim import matutils\n",
    "from gensim.models.ldamodel import LdaModel\n",
    "from gensim.corpora import Dictionary\n",
    "from time import time"
   ]
  },
  {
   "cell_type": "markdown",
   "metadata": {},
   "source": [
    "Использую стандартный датасет **20newsgroups**."
   ]
  },
  {
   "cell_type": "code",
   "execution_count": 2,
   "metadata": {
    "collapsed": false
   },
   "outputs": [],
   "source": [
    "newsgroups = fetch_20newsgroups()"
   ]
  },
  {
   "cell_type": "code",
   "execution_count": 3,
   "metadata": {
    "collapsed": false
   },
   "outputs": [
    {
     "name": "stdout",
     "output_type": "stream",
     "text": [
      "['alt.atheism',\n",
      " 'comp.graphics',\n",
      " 'comp.os.ms-windows.misc',\n",
      " 'comp.sys.ibm.pc.hardware',\n",
      " 'comp.sys.mac.hardware',\n",
      " 'comp.windows.x',\n",
      " 'misc.forsale',\n",
      " 'rec.autos',\n",
      " 'rec.motorcycles',\n",
      " 'rec.sport.baseball',\n",
      " 'rec.sport.hockey',\n",
      " 'sci.crypt',\n",
      " 'sci.electronics',\n",
      " 'sci.med',\n",
      " 'sci.space',\n",
      " 'soc.religion.christian',\n",
      " 'talk.politics.guns',\n",
      " 'talk.politics.mideast',\n",
      " 'talk.politics.misc',\n",
      " 'talk.religion.misc']\n"
     ]
    }
   ],
   "source": [
    "pprint(list(newsgroups.target_names))"
   ]
  },
  {
   "cell_type": "code",
   "execution_count": 4,
   "metadata": {
    "collapsed": false
   },
   "outputs": [
    {
     "data": {
      "text/plain": [
       "(11314,)"
      ]
     },
     "execution_count": 4,
     "metadata": {},
     "output_type": "execute_result"
    }
   ],
   "source": [
    "newsgroups.filenames.shape"
   ]
  },
  {
   "cell_type": "markdown",
   "metadata": {},
   "source": [
    "Сокращу немного датасет, оставив 5 различных тем."
   ]
  },
  {
   "cell_type": "code",
   "execution_count": 5,
   "metadata": {
    "collapsed": true
   },
   "outputs": [],
   "source": [
    "cats = ['soc.religion.christian', 'talk.religion.misc', 'sci.space', 'rec.motorcycles', 'comp.graphics']\n",
    "newsgroups = fetch_20newsgroups(subset='train', categories=cats)"
   ]
  },
  {
   "cell_type": "code",
   "execution_count": 6,
   "metadata": {
    "collapsed": false
   },
   "outputs": [
    {
     "data": {
      "text/plain": [
       "(2751,)"
      ]
     },
     "execution_count": 6,
     "metadata": {},
     "output_type": "execute_result"
    }
   ],
   "source": [
    "newsgroups.filenames.shape"
   ]
  },
  {
   "cell_type": "code",
   "execution_count": 7,
   "metadata": {
    "collapsed": false
   },
   "outputs": [
    {
     "data": {
      "text/plain": [
       "u\"From: henry@zoo.toronto.edu (Henry Spencer)\\nSubject: Re: Solar Sail Data\\nOrganization: U of Toronto Zoology\\nLines: 10\\n\\nIn article <1qk4qf$mf8@male.EBay.Sun.COM> almo@packmind.EBay.Sun.COM writes:\\n>Hey!? What happened to the solar sail race that was supposed to be\\n>for Columbus+500?\\n\\nThere was a recession, and none of the potential entrants could raise any\\nmoney.  The race organizers were actually supposed to be handling part of\\nthe fundraising, but the less said about that the better.\\n-- \\nAll work is one man's work.             | Henry Spencer @ U of Toronto Zoology\\n                    - Kipling           |  henry@zoo.toronto.edu  utzoo!henry\\n\""
      ]
     },
     "execution_count": 7,
     "metadata": {},
     "output_type": "execute_result"
    }
   ],
   "source": [
    "newsgroups.data[0]"
   ]
  },
  {
   "cell_type": "code",
   "execution_count": 8,
   "metadata": {
    "collapsed": false
   },
   "outputs": [],
   "source": [
    "vectorizer = CountVectorizer(stop_words='english', analyzer='word', min_df=2, max_df=0.4)\n",
    "X = vectorizer.fit_transform(newsgroups.data)"
   ]
  },
  {
   "cell_type": "code",
   "execution_count": 9,
   "metadata": {
    "collapsed": false
   },
   "outputs": [
    {
     "data": {
      "text/plain": [
       "<1x20971 sparse matrix of type '<type 'numpy.int64'>'\n",
       "\twith 64 stored elements in Compressed Sparse Row format>"
      ]
     },
     "execution_count": 9,
     "metadata": {},
     "output_type": "execute_result"
    }
   ],
   "source": [
    "X[1]"
   ]
  },
  {
   "cell_type": "code",
   "execution_count": 10,
   "metadata": {
    "collapsed": true
   },
   "outputs": [],
   "source": [
    "vocab = vectorizer.get_feature_names()"
   ]
  },
  {
   "cell_type": "code",
   "execution_count": 11,
   "metadata": {
    "collapsed": true
   },
   "outputs": [],
   "source": [
    "id2word = dict([(i, s) for i, s in enumerate(vocab)])\n",
    "corpus = matutils.Sparse2Corpus(X, documents_columns=False)"
   ]
  },
  {
   "cell_type": "code",
   "execution_count": 12,
   "metadata": {
    "collapsed": false
   },
   "outputs": [
    {
     "name": "stdout",
     "output_type": "stream",
     "text": [
      "Evaluation time: 3.76850238244\n"
     ]
    }
   ],
   "source": [
    "start = time()\n",
    "lda = LdaModel(corpus, id2word=id2word, num_topics=5, alpha='auto', update_every=1, passes=30)\n",
    "print 'Evaluation time: {}'.format((time() - start) / 60)"
   ]
  },
  {
   "cell_type": "code",
   "execution_count": 13,
   "metadata": {
    "collapsed": false,
    "scrolled": true
   },
   "outputs": [
    {
     "data": {
      "text/plain": [
       "[(0,\n",
       "  u'0.015*god + 0.009*jesus + 0.007*people + 0.005*think + 0.005*christian + 0.004*bible + 0.004*christ + 0.004*don + 0.004*know + 0.004*believe'),\n",
       " (1,\n",
       "  u'0.008*image + 0.006*graphics + 0.004*data + 0.004*images + 0.004*software + 0.004*available + 0.003*___ + 0.003*ca + 0.003*ftp + 0.003*file'),\n",
       " (2,\n",
       "  u'0.005*people + 0.005*does + 0.005*don + 0.005*just + 0.004*know + 0.004*like + 0.004*university + 0.004*think + 0.004*science + 0.004*say'),\n",
       " (3,\n",
       "  u'0.018*space + 0.008*nasa + 0.005*launch + 0.004*gov + 0.004*earth + 0.004*moon + 0.003*orbit + 0.003*satellite + 0.003*shuttle + 0.003*year'),\n",
       " (4,\n",
       "  u'0.007*bike + 0.007*posting + 0.006*nntp + 0.006*host + 0.005*like + 0.005*dod + 0.005*university + 0.005*ca + 0.004*don + 0.004*just')]"
      ]
     },
     "execution_count": 13,
     "metadata": {},
     "output_type": "execute_result"
    }
   ],
   "source": [
    "lda.print_topics()"
   ]
  },
  {
   "cell_type": "markdown",
   "metadata": {},
   "source": [
    "Понятно, что стоило сделать нормальную предварительную очистку от специфичных стоп-слов, но даже без неё в общем-то темы угадываются. Хотя, конечно, не идеально. Но алгоритм работал всего 3.7 минут, можно было увеличить время работы, увеличив число проходов по документам (passes)."
   ]
  },
  {
   "cell_type": "code",
   "execution_count": 14,
   "metadata": {
    "collapsed": true
   },
   "outputs": [],
   "source": [
    "query = 'scientists explore new star'\n",
    "query = query.split()"
   ]
  },
  {
   "cell_type": "code",
   "execution_count": 15,
   "metadata": {
    "collapsed": false
   },
   "outputs": [],
   "source": [
    "special_id2word = Dictionary()\n",
    "_ = special_id2word.merge_with(id2word)"
   ]
  },
  {
   "cell_type": "code",
   "execution_count": 16,
   "metadata": {
    "collapsed": false
   },
   "outputs": [
    {
     "data": {
      "text/plain": [
       "[(7939, 1), (13255, 1), (16841, 1), (17977, 1)]"
      ]
     },
     "execution_count": 16,
     "metadata": {},
     "output_type": "execute_result"
    }
   ],
   "source": [
    "query = special_id2word.doc2bow(query)\n",
    "query"
   ]
  },
  {
   "cell_type": "code",
   "execution_count": 17,
   "metadata": {
    "collapsed": false
   },
   "outputs": [
    {
     "data": {
      "text/plain": [
       "[(0, 0.015438042430812933),\n",
       " (1, 0.0137238189385505),\n",
       " (2, 0.011630400426774911),\n",
       " (3, 0.93976944218015324),\n",
       " (4, 0.01943829602370855)]"
      ]
     },
     "execution_count": 17,
     "metadata": {},
     "output_type": "execute_result"
    }
   ],
   "source": [
    "lda[query]"
   ]
  },
  {
   "cell_type": "code",
   "execution_count": 18,
   "metadata": {
    "collapsed": false
   },
   "outputs": [
    {
     "name": "stdout",
     "output_type": "stream",
     "text": [
      "(2, 0.011630400416873547)\n",
      "(3, 0.93976944219711334)\n"
     ]
    }
   ],
   "source": [
    "sorted_results = list(sorted(lda[query], key=lambda x: x[1]))\n",
    "print(sorted_results[0])\n",
    "print(sorted_results[-1])"
   ]
  },
  {
   "cell_type": "code",
   "execution_count": 19,
   "metadata": {
    "collapsed": false
   },
   "outputs": [
    {
     "data": {
      "text/plain": [
       "u'0.018*space + 0.008*nasa + 0.005*launch + 0.004*gov + 0.004*earth + 0.004*moon + 0.003*orbit + 0.003*satellite + 0.003*shuttle + 0.003*year'"
      ]
     },
     "execution_count": 19,
     "metadata": {},
     "output_type": "execute_result"
    }
   ],
   "source": [
    "lda.print_topic(sorted_results[-1][0])"
   ]
  },
  {
   "cell_type": "markdown",
   "metadata": {},
   "source": [
    "Сохраню модель:"
   ]
  },
  {
   "cell_type": "code",
   "execution_count": 20,
   "metadata": {
    "collapsed": true
   },
   "outputs": [],
   "source": [
    "lda.save('newsgroups.lda')\n",
    "#lda = gensim.models.LdaModel.load('newsgroups.lda')"
   ]
  }
 ],
 "metadata": {
  "kernelspec": {
   "display_name": "Python 2",
   "language": "python",
   "name": "python2"
  },
  "language_info": {
   "codemirror_mode": {
    "name": "ipython",
    "version": 2
   },
   "file_extension": ".py",
   "mimetype": "text/x-python",
   "name": "python",
   "nbconvert_exporter": "python",
   "pygments_lexer": "ipython2",
   "version": "2.7.6"
  }
 },
 "nbformat": 4,
 "nbformat_minor": 0
}
